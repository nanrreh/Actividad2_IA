{
  "metadata": {
    "language_info": {
      "codemirror_mode": {
        "name": "python",
        "version": 3
      },
      "file_extension": ".py",
      "mimetype": "text/x-python",
      "name": "python",
      "nbconvert_exporter": "python",
      "pygments_lexer": "ipython3",
      "version": "3.8"
    },
    "kernelspec": {
      "name": "python",
      "display_name": "Python (Pyodide)",
      "language": "python"
    }
  },
  "nbformat_minor": 4,
  "nbformat": 4,
  "cells": [
    {
      "cell_type": "code",
      "source": "import matplotlib.pyplot as plt\nimport numpy as np\n\ndata = {'Portal de la 80':0, 'Quirigua':1, 'Carrera 90':2, 'Avenida Cali':3, 'Granja':4, 'Minuto de Dios':5, 'Boyacá':6, 'Ferias':7, 'Avenida 68':8, 'Carrera 53':9, 'Carrera 47':10, 'Esc. Militar':11, 'Polo':12}\n\nnames = list(data.keys())\nvalues = list(data.values())\n\npuntoA = \"Carrera 90\"\npuntoB = \"Ferias\"\n        \nstations = []\n\nx = np.array(values)\n\nroute = np.where((x >= data[puntoA]) & (x <= data[puntoB]))[0].tolist()\n\nfor index, letter in enumerate(data):\n    if (index in route):\n         stations.append(letter)\n            \nprint(names)\nprint(values)\n\nprint(stations)\nprint(route)",
      "metadata": {
        "trusted": true
      },
      "execution_count": 1,
      "outputs": [
        {
          "name": "stdout",
          "text": "['Portal de la 80', 'Quirigua', 'Carrera 90', 'Avenida Cali', 'Granja', 'Minuto de Dios', 'Boyacá', 'Ferias', 'Avenida 68', 'Carrera 53', 'Carrera 47', 'Esc. Militar', 'Polo']\n[0, 1, 2, 3, 4, 5, 6, 7, 8, 9, 10, 11, 12]\n['Carrera 90', 'Avenida Cali', 'Granja', 'Minuto de Dios', 'Boyacá', 'Ferias']\n[2, 3, 4, 5, 6, 7]\n",
          "output_type": "stream"
        }
      ]
    },
    {
      "cell_type": "code",
      "source": "",
      "metadata": {},
      "execution_count": null,
      "outputs": []
    }
  ]
}