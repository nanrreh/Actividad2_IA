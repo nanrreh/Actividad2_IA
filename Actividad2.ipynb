import matplotlib.pyplot as plt
import numpy as np

data = {'Portal de la 80':0, 'Quirigua':1, 'Carrera 90':2, 'Avenida Cali':3, 'Granja':4, 'Minuto de Dios':5, 'Boyacá':6, 'Ferias':7, 'Avenida 68':8, 'Carrera 53':9, 'Carrera 47':10, 'Esc. Militar':11, 'Polo':12}

names = list(data.keys())
values = list(data.values())

puntoA = "Carrera 90"
puntoB = "Ferias"
        
stations = []

x = np.array(values)

route = np.where((x >= data[puntoA]) & (x <= data[puntoB]))[0].tolist()

for index, letter in enumerate(data):
    if (index in route):
         stations.append(letter)
            
print(names)
print(values)

print(stations)
print(route)
